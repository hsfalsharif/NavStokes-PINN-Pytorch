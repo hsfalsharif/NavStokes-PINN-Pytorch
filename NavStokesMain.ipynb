{
 "cells": [
  {
   "cell_type": "code",
   "execution_count": null,
   "metadata": {},
   "outputs": [],
   "source": [
    "import scipy.io\n",
    "import numpy as np\n",
    "import torch\n",
    "from NavStokesPINN import NavStokesPINN"
   ]
  },
  {
   "cell_type": "code",
   "execution_count": null,
   "metadata": {},
   "outputs": [],
   "source": [
    "np.random.seed(42)\n",
    "torch.set_default_dtype(torch.float)\n",
    "torch.manual_seed(42)\n",
    "\n",
    "# Device configuration\n",
    "device = torch.device('cuda' if torch.cuda.is_available() else 'cpu')"
   ]
  },
  {
   "cell_type": "code",
   "execution_count": null,
   "metadata": {},
   "outputs": [],
   "source": [
    "N_train = 5000\n",
    "\n",
    "layers = [3, 20, 20, 20, 20, 20, 20, 20, 20, 2]\n",
    "data = scipy.io.loadmat('Data/cylinder_nektar_wake.mat')"
   ]
  },
  {
   "cell_type": "code",
   "execution_count": null,
   "metadata": {},
   "outputs": [],
   "source": [
    "U_star = data['U_star']     # N x 2 x T\n",
    "P_star = data['p_star']     # N x T\n",
    "t_star = data['t']          # T x 1\n",
    "X_star = data['X_star']     # N x 2"
   ]
  },
  {
   "cell_type": "code",
   "execution_count": null,
   "metadata": {},
   "outputs": [],
   "source": [
    "N = X_star.shape[0]\n",
    "T = t_star.shape[0]"
   ]
  },
  {
   "cell_type": "code",
   "execution_count": null,
   "metadata": {},
   "outputs": [],
   "source": [
    "# rearrange data\n",
    "\n",
    "# inputs\n",
    "XX = np.tile(X_star[:,0:1], (1,T))      # N x T\n",
    "YY = np.tile(X_star[:,1:2], (1,T))      # N x T\n",
    "TT = np.tile(t_star, (1,N)).T           # N x T\n",
    "\n",
    "# outputs\n",
    "UU = U_star[:,0,:]                      # N x T\n",
    "VV = U_star[:,1,:]                      # N x T\n",
    "PP = P_star                             # N x T"
   ]
  },
  {
   "cell_type": "code",
   "execution_count": null,
   "metadata": {},
   "outputs": [],
   "source": [
    "# flatten data\n",
    "\n",
    "x = XX.flatten()[:,None]                # NT x 1\n",
    "y = YY.flatten()[:,None]                # NT x 1\n",
    "t = TT.flatten()[:,None]                # NT x 1\n",
    "\n",
    "u = UU.flatten()[:,None]\n",
    "v = VV.flatten()[:,None]\n",
    "p = PP.flatten()[:,None]"
   ]
  },
  {
   "cell_type": "code",
   "execution_count": null,
   "metadata": {},
   "outputs": [],
   "source": [
    "# training data selection\n",
    "\n",
    "idx = np.random.choice(N*T, N_train, replace=False)     # randomly sampling training data from our full dataset\n",
    "x_train = x[idx,:]\n",
    "y_train = y[idx,:]\n",
    "t_train = t[idx,:]\n",
    "u_train = u[idx,:]\n",
    "v_train = v[idx,:]"
   ]
  },
  {
   "cell_type": "code",
   "execution_count": null,
   "metadata": {},
   "outputs": [],
   "source": [
    "model = NavStokesPINN(x_train, y_train, t_train, u_train, v_train, layers, device)\n",
    "model.to(device)\n",
    "print(model)\n",
    "model.train(10)"
   ]
  }
 ],
 "metadata": {
  "kernelspec": {
   "display_name": "Python 3.9.13 ('base')",
   "language": "python",
   "name": "python3"
  },
  "language_info": {
   "codemirror_mode": {
    "name": "ipython",
    "version": 3
   },
   "file_extension": ".py",
   "mimetype": "text/x-python",
   "name": "python",
   "nbconvert_exporter": "python",
   "pygments_lexer": "ipython3",
   "version": "3.9.13"
  },
  "orig_nbformat": 4,
  "vscode": {
   "interpreter": {
    "hash": "307c53b24b29167a38247f122f14618edc066d51f1879793f11c0c5c7568b40c"
   }
  }
 },
 "nbformat": 4,
 "nbformat_minor": 2
}
